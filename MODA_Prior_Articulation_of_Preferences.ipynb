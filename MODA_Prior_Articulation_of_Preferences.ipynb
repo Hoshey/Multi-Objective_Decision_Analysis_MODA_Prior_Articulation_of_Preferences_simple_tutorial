{
 "cells": [
  {
   "cell_type": "code",
   "execution_count": 3,
   "metadata": {
    "ExecuteTime": {
     "end_time": "2020-04-09T03:08:31.022949Z",
     "start_time": "2020-04-09T03:08:30.471219Z"
    }
   },
   "outputs": [],
   "source": [
    "import numpy as np\n",
    "import pandas as pd\n",
    "import math\n",
    "from pulp import *\n",
    "from gurobipy import *\n",
    "\n"
   ]
  },
  {
   "cell_type": "code",
   "execution_count": null,
   "metadata": {},
   "outputs": [],
   "source": []
  },
  {
   "cell_type": "markdown",
   "metadata": {},
   "source": [
    "### Weighting Method\n"
   ]
  },
  {
   "cell_type": "code",
   "execution_count": null,
   "metadata": {},
   "outputs": [],
   "source": []
  },
  {
   "cell_type": "markdown",
   "metadata": {},
   "source": [
    "### Compromise Programming\n",
    "\n"
   ]
  },
  {
   "cell_type": "code",
   "execution_count": null,
   "metadata": {},
   "outputs": [],
   "source": []
  },
  {
   "cell_type": "markdown",
   "metadata": {},
   "source": [
    "### Sequential Method\n"
   ]
  },
  {
   "cell_type": "code",
   "execution_count": null,
   "metadata": {},
   "outputs": [],
   "source": []
  },
  {
   "cell_type": "code",
   "execution_count": 46,
   "metadata": {},
   "outputs": [],
   "source": [
    "roe = [[25.6, 23.6, 22.0, 20.9],\n",
    "       [17.4, 16.8, 11.9, 15.9],\n",
    "       [9.03, 7.43, 8.64, 8.79],\n",
    "       [10.5, 17.5, 15.1, 13.0],\n",
    "       [9.80, 40.5, 4.98, 6.39]]\n",
    "\n",
    "roe = np.array(roe)\n",
    "e = np.mean(roe, axis=1)\n",
    "cov = np.cov(roe, ddof=0)\n",
    "cov.diagonal()            #np.std(roe, axis=1)\n",
    "\n",
    "\n",
    "e1 = e[0]\n",
    "e2 = e[1]\n",
    "e3 = e[2]\n",
    "e4 = e[3]\n",
    "e5 = e[4]\n",
    "\n",
    "sig11 = cov[0][0]\n",
    "sig22 = cov[1][1]\n",
    "sig33 = cov[2][2]\n",
    "sig44 = cov[3][3]\n",
    "sig55 = cov[4][4]\n",
    "\n",
    "sig12 = cov[0][1]\n",
    "sig13 = cov[0][2]\n",
    "sig14 = cov[0][3]\n",
    "sig15 = cov[0][4]\n",
    "sig23 = cov[1][2]\n",
    "sig24 = cov[1][3]\n",
    "sig25 = cov[1][4]\n",
    "sig34 = cov[2][3]\n",
    "sig35 = cov[2][4]\n",
    "sig45 = cov[3][4]\n"
   ]
  },
  {
   "cell_type": "code",
   "execution_count": null,
   "metadata": {},
   "outputs": [],
   "source": []
  },
  {
   "cell_type": "code",
   "execution_count": 62,
   "metadata": {},
   "outputs": [
    {
     "ename": "TypeError",
     "evalue": "Non-constant expressions cannot be multiplied",
     "output_type": "error",
     "traceback": [
      "\u001b[1;31m---------------------------------------------------------------------------\u001b[0m",
      "\u001b[1;31mTypeError\u001b[0m                                 Traceback (most recent call last)",
      "\u001b[1;32m<ipython-input-62-cfeb1d546e23>\u001b[0m in \u001b[0;36m<module>\u001b[1;34m\u001b[0m\n\u001b[0;32m     16\u001b[0m \u001b[1;33m\u001b[0m\u001b[0m\n\u001b[0;32m     17\u001b[0m \u001b[1;31m### objective function\u001b[0m\u001b[1;33m\u001b[0m\u001b[1;33m\u001b[0m\u001b[1;33m\u001b[0m\u001b[0m\n\u001b[1;32m---> 18\u001b[1;33m \u001b[0mmodel\u001b[0m \u001b[1;33m+=\u001b[0m \u001b[1;36m2\u001b[0m\u001b[1;33m*\u001b[0m\u001b[0msig12\u001b[0m\u001b[1;33m*\u001b[0m\u001b[0mx1\u001b[0m\u001b[1;33m*\u001b[0m\u001b[0mx2\u001b[0m\u001b[1;33m\u001b[0m\u001b[1;33m\u001b[0m\u001b[0m\n\u001b[0m\u001b[0;32m     19\u001b[0m \u001b[1;33m\u001b[0m\u001b[0m\n\u001b[0;32m     20\u001b[0m '''\n",
      "\u001b[1;32mC:\\ProgramData\\Anaconda3\\lib\\site-packages\\pulp\\pulp.py\u001b[0m in \u001b[0;36m__mul__\u001b[1;34m(self, other)\u001b[0m\n\u001b[0;32m    813\u001b[0m                         \u001b[0me\u001b[0m\u001b[1;33m[\u001b[0m\u001b[0mv\u001b[0m\u001b[1;33m]\u001b[0m \u001b[1;33m=\u001b[0m \u001b[0mc\u001b[0m \u001b[1;33m*\u001b[0m \u001b[0mx\u001b[0m\u001b[1;33m\u001b[0m\u001b[1;33m\u001b[0m\u001b[0m\n\u001b[0;32m    814\u001b[0m         \u001b[1;32melif\u001b[0m \u001b[0misinstance\u001b[0m\u001b[1;33m(\u001b[0m\u001b[0mother\u001b[0m\u001b[1;33m,\u001b[0m\u001b[0mLpVariable\u001b[0m\u001b[1;33m)\u001b[0m\u001b[1;33m:\u001b[0m\u001b[1;33m\u001b[0m\u001b[1;33m\u001b[0m\u001b[0m\n\u001b[1;32m--> 815\u001b[1;33m             \u001b[1;32mreturn\u001b[0m \u001b[0mself\u001b[0m \u001b[1;33m*\u001b[0m \u001b[0mLpAffineExpression\u001b[0m\u001b[1;33m(\u001b[0m\u001b[0mother\u001b[0m\u001b[1;33m)\u001b[0m\u001b[1;33m\u001b[0m\u001b[1;33m\u001b[0m\u001b[0m\n\u001b[0m\u001b[0;32m    816\u001b[0m         \u001b[1;32melse\u001b[0m\u001b[1;33m:\u001b[0m\u001b[1;33m\u001b[0m\u001b[1;33m\u001b[0m\u001b[0m\n\u001b[0;32m    817\u001b[0m             \u001b[1;32mif\u001b[0m \u001b[0mother\u001b[0m \u001b[1;33m!=\u001b[0m \u001b[1;36m0\u001b[0m\u001b[1;33m:\u001b[0m\u001b[1;33m\u001b[0m\u001b[1;33m\u001b[0m\u001b[0m\n",
      "\u001b[1;32mC:\\ProgramData\\Anaconda3\\lib\\site-packages\\pulp\\pulp.py\u001b[0m in \u001b[0;36m__mul__\u001b[1;34m(self, other)\u001b[0m\n\u001b[0;32m    801\u001b[0m             \u001b[1;32mif\u001b[0m \u001b[0mlen\u001b[0m\u001b[1;33m(\u001b[0m\u001b[0mother\u001b[0m\u001b[1;33m)\u001b[0m\u001b[1;33m:\u001b[0m\u001b[1;33m\u001b[0m\u001b[1;33m\u001b[0m\u001b[0m\n\u001b[0;32m    802\u001b[0m                 \u001b[1;32mif\u001b[0m \u001b[0mlen\u001b[0m\u001b[1;33m(\u001b[0m\u001b[0mself\u001b[0m\u001b[1;33m)\u001b[0m\u001b[1;33m:\u001b[0m\u001b[1;33m\u001b[0m\u001b[1;33m\u001b[0m\u001b[0m\n\u001b[1;32m--> 803\u001b[1;33m                     \u001b[1;32mraise\u001b[0m \u001b[0mTypeError\u001b[0m\u001b[1;33m(\u001b[0m\u001b[1;34m\"Non-constant expressions cannot be multiplied\"\u001b[0m\u001b[1;33m)\u001b[0m\u001b[1;33m\u001b[0m\u001b[1;33m\u001b[0m\u001b[0m\n\u001b[0m\u001b[0;32m    804\u001b[0m                 \u001b[1;32melse\u001b[0m\u001b[1;33m:\u001b[0m\u001b[1;33m\u001b[0m\u001b[1;33m\u001b[0m\u001b[0m\n\u001b[0;32m    805\u001b[0m                     \u001b[0mc\u001b[0m \u001b[1;33m=\u001b[0m \u001b[0mself\u001b[0m\u001b[1;33m.\u001b[0m\u001b[0mconstant\u001b[0m\u001b[1;33m\u001b[0m\u001b[1;33m\u001b[0m\u001b[0m\n",
      "\u001b[1;31mTypeError\u001b[0m: Non-constant expressions cannot be multiplied"
     ]
    }
   ],
   "source": [
    "### create model\n",
    "model = LpProblem(\"The x Problem\", LpMinimize)\n",
    "\n",
    "### add decision variable\n",
    "x11 = pulp.LpVariable('x11',lowBound = 0)\n",
    "x22 = pulp.LpVariable('x22',lowBound = 0)\n",
    "x33 = pulp.LpVariable('x33',lowBound = 0)\n",
    "x44 = pulp.LpVariable('x44',lowBound = 0)\n",
    "x55 = pulp.LpVariable('x55',lowBound = 0)\n",
    "\n",
    "x1 = pulp.LpVariable('x1',lowBound = 0)\n",
    "x2 = pulp.LpVariable('x2',lowBound = 0)\n",
    "x3 = pulp.LpVariable('x3',lowBound = 0)\n",
    "x4 = pulp.LpVariable('x4',lowBound = 0)\n",
    "x5 = pulp.LpVariable('x5',lowBound = 0)\n",
    "\n",
    "### objective function \n",
    "model +=\n",
    "\n",
    "'''\n",
    "sig11*x11 +sig22*x22\n",
    "\n",
    "+2*sig12*x1*x2 \n",
    "+2*sig13*x1*x3 \n",
    "+2*sig14*x1*x4 \n",
    "+2*sig15*x1*x5 \n",
    "+2*sig23*x2*x3 \n",
    "+2*sig24*x2*x4 \n",
    "+2*sig25*x2*x5 \n",
    "+2*sig34*x3*x4 \n",
    "+2*sig35*x3*x5 \n",
    "+2*sig45*x4*x5)\n",
    "'''\n"
   ]
  },
  {
   "cell_type": "code",
   "execution_count": 51,
   "metadata": {},
   "outputs": [
    {
     "name": "stdout",
     "output_type": "stream",
     "text": [
      "Status: Optimal\n",
      "__dummy = None\n",
      "x1 = 1.0\n",
      "x2 = 0.0\n",
      "x3 = 0.0\n",
      "x4 = 0.0\n",
      "x5 = 0.0\n"
     ]
    },
    {
     "ename": "AttributeError",
     "evalue": "'NoneType' object has no attribute 'value'",
     "output_type": "error",
     "traceback": [
      "\u001b[1;31m---------------------------------------------------------------------------\u001b[0m",
      "\u001b[1;31mAttributeError\u001b[0m                            Traceback (most recent call last)",
      "\u001b[1;32m<ipython-input-51-92f31bc018c8>\u001b[0m in \u001b[0;36m<module>\u001b[1;34m\u001b[0m\n\u001b[0;32m     11\u001b[0m \u001b[1;32mfor\u001b[0m \u001b[0mv\u001b[0m \u001b[1;32min\u001b[0m \u001b[0mmodel\u001b[0m\u001b[1;33m.\u001b[0m\u001b[0mvariables\u001b[0m\u001b[1;33m(\u001b[0m\u001b[1;33m)\u001b[0m\u001b[1;33m:\u001b[0m\u001b[1;33m\u001b[0m\u001b[1;33m\u001b[0m\u001b[0m\n\u001b[0;32m     12\u001b[0m     \u001b[0mprint\u001b[0m\u001b[1;33m(\u001b[0m\u001b[0mv\u001b[0m\u001b[1;33m.\u001b[0m\u001b[0mname\u001b[0m\u001b[1;33m,\u001b[0m \u001b[1;34m\"=\"\u001b[0m\u001b[1;33m,\u001b[0m \u001b[0mv\u001b[0m\u001b[1;33m.\u001b[0m\u001b[0mvarValue\u001b[0m\u001b[1;33m)\u001b[0m\u001b[1;33m\u001b[0m\u001b[1;33m\u001b[0m\u001b[0m\n\u001b[1;32m---> 13\u001b[1;33m \u001b[0mprint\u001b[0m\u001b[1;33m(\u001b[0m\u001b[1;34m'obj='\u001b[0m\u001b[1;33m,\u001b[0m\u001b[0mvalue\u001b[0m\u001b[1;33m(\u001b[0m\u001b[0mmodel\u001b[0m\u001b[1;33m.\u001b[0m\u001b[0mobjective\u001b[0m\u001b[1;33m)\u001b[0m\u001b[1;33m)\u001b[0m\u001b[1;33m\u001b[0m\u001b[1;33m\u001b[0m\u001b[0m\n\u001b[0m",
      "\u001b[1;32mC:\\ProgramData\\Anaconda3\\lib\\site-packages\\pulp\\pulp.py\u001b[0m in \u001b[0;36mvalue\u001b[1;34m(x)\u001b[0m\n\u001b[0;32m   2072\u001b[0m     \u001b[1;34m\"\"\"Returns the value of the variable/expression x, or x if it is a number\"\"\"\u001b[0m\u001b[1;33m\u001b[0m\u001b[1;33m\u001b[0m\u001b[0m\n\u001b[0;32m   2073\u001b[0m     \u001b[1;32mif\u001b[0m \u001b[0misNumber\u001b[0m\u001b[1;33m(\u001b[0m\u001b[0mx\u001b[0m\u001b[1;33m)\u001b[0m\u001b[1;33m:\u001b[0m \u001b[1;32mreturn\u001b[0m \u001b[0mx\u001b[0m\u001b[1;33m\u001b[0m\u001b[1;33m\u001b[0m\u001b[0m\n\u001b[1;32m-> 2074\u001b[1;33m     \u001b[1;32melse\u001b[0m\u001b[1;33m:\u001b[0m \u001b[1;32mreturn\u001b[0m \u001b[0mx\u001b[0m\u001b[1;33m.\u001b[0m\u001b[0mvalue\u001b[0m\u001b[1;33m(\u001b[0m\u001b[1;33m)\u001b[0m\u001b[1;33m\u001b[0m\u001b[1;33m\u001b[0m\u001b[0m\n\u001b[0m\u001b[0;32m   2075\u001b[0m \u001b[1;33m\u001b[0m\u001b[0m\n\u001b[0;32m   2076\u001b[0m \u001b[1;32mdef\u001b[0m \u001b[0mvalueOrDefault\u001b[0m\u001b[1;33m(\u001b[0m\u001b[0mx\u001b[0m\u001b[1;33m)\u001b[0m\u001b[1;33m:\u001b[0m\u001b[1;33m\u001b[0m\u001b[1;33m\u001b[0m\u001b[0m\n",
      "\u001b[1;31mAttributeError\u001b[0m: 'NoneType' object has no attribute 'value'"
     ]
    }
   ],
   "source": [
    "### constraints\n",
    "model += x1 +x2 +x3 +x4 +x5 == 1.0\n",
    "model += e1*x1 +e2*x2 +e3*x3 +e4*x4 +e5*x5 >= 7.0\n",
    "\n",
    "model.solve()\n",
    "\n",
    "#查看目前解的狀態\n",
    "print(\"Status:\", LpStatus[model.status])\n",
    "\n",
    "#印出解及目標值\n",
    "for v in model.variables():\n",
    "    print(v.name, \"=\", v.varValue)\n",
    "print('obj=',value(model.objective))\n"
   ]
  },
  {
   "cell_type": "code",
   "execution_count": null,
   "metadata": {},
   "outputs": [],
   "source": []
  },
  {
   "cell_type": "code",
   "execution_count": null,
   "metadata": {},
   "outputs": [],
   "source": []
  },
  {
   "cell_type": "markdown",
   "metadata": {},
   "source": [
    "### 2. multi-facility location problem\n",
    "\n",
    "(a) 因為 new facilities n = 2，所以部分敘述單純以 x1 & x2 表示比較清楚\n",
    "\n",
    " - decision variables\n",
    " \n",
    " $$ w = \\begin{bmatrix} 5 & 3 & 0 & 0 \\\\ 0 & 1 & 8 & 4 \\end{bmatrix}$$\n",
    " $$ V = \\begin{bmatrix} 4 & 0 \\\\ 0 & 4 \\end{bmatrix}$$\n",
    " $$ a = \\begin{bmatrix} 0 & 4 & 6 & 10 \\end{bmatrix}$$\n",
    " $$ b = \\begin{bmatrix} 2 & 0 & 8 & 4 \\end{bmatrix}$$\n",
    " \n",
    " rji -> amount by which xj is “to the right” of mi\n",
    " \n",
    " sji -> amount by which xj is “to the left ” of mi\n",
    " \n",
    " j = 1 or 2, i = 1~4, rji & sji > 0\n",
    " \n",
    " \n",
    " - LP model\n",
    " \n",
    " Min  \n",
    " $ 4(q12 + p12) + \\sum_{j=1}^{2} \\sum_{i=1}^{4}wij(rij + sij) $\n",
    " \n",
    " s.t.\n",
    " \n",
    "    - $ x1 - q12 + p12 = x2 $\n",
    " \n",
    "    - $ xj - rij + sij = mi, 4 \\geq i \\geq 1 , 2 \\geq i \\geq 1$\n",
    " \n",
    "    - $ x1, x2, rij, sij, qjk, pjk  \\geq 0 $\n",
    "\n",
    "\n",
    "(b) the solutions by X- and Y- Coordinate is (code is below)\n",
    "\n",
    "$ x1 = (4, 2), x2 = (6, 4)$\n"
   ]
  },
  {
   "cell_type": "code",
   "execution_count": 8,
   "metadata": {
    "ExecuteTime": {
     "end_time": "2020-04-09T03:08:39.588223Z",
     "start_time": "2020-04-09T03:08:39.554278Z"
    }
   },
   "outputs": [
    {
     "name": "stdout",
     "output_type": "stream",
     "text": [
      "Status: Optimal\n",
      "p12 = 2.0\n",
      "q12 = 0.0\n",
      "r11 = 4.0\n",
      "r12 = 6.0\n",
      "r21 = 0.0\n",
      "r22 = 2.0\n",
      "r31 = 0.0\n",
      "r32 = 0.0\n",
      "r41 = 0.0\n",
      "r42 = 0.0\n",
      "s11 = 0.0\n",
      "s12 = 0.0\n",
      "s21 = 0.0\n",
      "s22 = 0.0\n",
      "s31 = 2.0\n",
      "s32 = 0.0\n",
      "s41 = 6.0\n",
      "s42 = 4.0\n",
      "x1 = 4.0\n",
      "x2 = 6.0\n",
      "obj= 50.0\n"
     ]
    },
    {
     "name": "stderr",
     "output_type": "stream",
     "text": [
      "C:\\ProgramData\\Anaconda3\\lib\\site-packages\\pulp\\pulp.py:1137: UserWarning: Spaces are not permitted in the name. Converted to '_'\n",
      "  warnings.warn(\"Spaces are not permitted in the name. Converted to '_'\")\n"
     ]
    }
   ],
   "source": [
    "### (b) for X-Coordinate. \n",
    "### create model\n",
    "model = LpProblem(\"The x Problem\", LpMinimize)\n",
    "\n",
    "### add decision variable\n",
    "x1 = pulp.LpVariable('x1',lowBound = 0, cat='Integer')\n",
    "x2 = pulp.LpVariable('x2',lowBound = 0, cat='Integer')\n",
    "\n",
    "q12 = pulp.LpVariable('q12',lowBound = 0, cat='Integer')\n",
    "p12 = pulp.LpVariable('p12',lowBound = 0, cat='Integer')\n",
    "\n",
    "r11 = pulp.LpVariable('r11',lowBound = 0, cat='Integer')\n",
    "r21 = pulp.LpVariable('r21',lowBound = 0, cat='Integer')\n",
    "r31 = pulp.LpVariable('r31',lowBound = 0, cat='Integer')\n",
    "r41 = pulp.LpVariable('r41',lowBound = 0, cat='Integer')\n",
    "\n",
    "r12 = pulp.LpVariable('r12',lowBound = 0, cat='Integer')\n",
    "r22 = pulp.LpVariable('r22',lowBound = 0, cat='Integer')\n",
    "r32 = pulp.LpVariable('r32',lowBound = 0, cat='Integer')\n",
    "r42 = pulp.LpVariable('r42',lowBound = 0, cat='Integer')\n",
    "\n",
    "s11 = pulp.LpVariable('s11',lowBound = 0, cat='Integer')\n",
    "s21 = pulp.LpVariable('s21',lowBound = 0, cat='Integer')\n",
    "s31 = pulp.LpVariable('s31',lowBound = 0, cat='Integer')\n",
    "s41 = pulp.LpVariable('s41',lowBound = 0, cat='Integer')\n",
    "\n",
    "s12 = pulp.LpVariable('s12',lowBound = 0, cat='Integer')\n",
    "s22 = pulp.LpVariable('s22',lowBound = 0, cat='Integer')\n",
    "s32 = pulp.LpVariable('s32',lowBound = 0, cat='Integer')\n",
    "s42 = pulp.LpVariable('s42',lowBound = 0, cat='Integer')\n",
    "\n",
    "\n",
    "### objective function \n",
    "model += 6*(q12 +p12) + 5*(r11 +s11) + 3*(r21 +s21) + 1*(r22 +s22) + 8*(r32 +s32) + 4*(r42 + s42)\n",
    "\n",
    "### constraints\n",
    "model += x1 -q12 +p12 == x2\n",
    "\n",
    "model += x1 -r11 +s11 == 0\n",
    "model += x2 -r12 +s12 == 0\n",
    "model += x1 -r21 +s21 == 4\n",
    "model += x2 -r22 +s22 == 4\n",
    "\n",
    "model += x1 -r31 +s31 == 6\n",
    "model += x2 -r32 +s32 == 6\n",
    "model += x1 -r41 +s41 == 10\n",
    "model += x2 -r42 +s42 == 10\n",
    "\n",
    "model.solve()\n",
    "\n",
    "#查看目前解的狀態\n",
    "print(\"Status:\", LpStatus[model.status])\n",
    "\n",
    "#印出解及目標值\n",
    "for v in model.variables():\n",
    "    print(v.name, \"=\", v.varValue)\n",
    "print('obj=',value(model.objective))\n"
   ]
  },
  {
   "cell_type": "code",
   "execution_count": 9,
   "metadata": {
    "ExecuteTime": {
     "end_time": "2020-04-09T03:08:42.466115Z",
     "start_time": "2020-04-09T03:08:42.435198Z"
    }
   },
   "outputs": [
    {
     "name": "stdout",
     "output_type": "stream",
     "text": [
      "Status: Optimal\n",
      "p12 = 2.0\n",
      "q12 = 0.0\n",
      "r11 = 0.0\n",
      "r12 = 2.0\n",
      "r21 = 2.0\n",
      "r22 = 4.0\n",
      "r31 = 0.0\n",
      "r32 = 0.0\n",
      "r41 = 0.0\n",
      "r42 = 0.0\n",
      "s11 = 0.0\n",
      "s12 = 0.0\n",
      "s21 = 0.0\n",
      "s22 = 0.0\n",
      "s31 = 6.0\n",
      "s32 = 4.0\n",
      "s41 = 2.0\n",
      "s42 = 0.0\n",
      "y1 = 2.0\n",
      "y2 = 4.0\n",
      "obj= 54.0\n"
     ]
    }
   ],
   "source": [
    "### (b) for Y-Coordinate. \n",
    "### create model\n",
    "model = LpProblem(\"The y Problem\", LpMinimize)\n",
    "\n",
    "### add decision variable\n",
    "y1 = pulp.LpVariable('y1',lowBound = 0, cat='Integer')\n",
    "y2 = pulp.LpVariable('y2',lowBound = 0, cat='Integer')\n",
    "\n",
    "q12 = pulp.LpVariable('q12',lowBound = 0, cat='Integer')\n",
    "p12 = pulp.LpVariable('p12',lowBound = 0, cat='Integer')\n",
    "\n",
    "r11 = pulp.LpVariable('r11',lowBound = 0, cat='Integer')\n",
    "r21 = pulp.LpVariable('r21',lowBound = 0, cat='Integer')\n",
    "r31 = pulp.LpVariable('r31',lowBound = 0, cat='Integer')\n",
    "r41 = pulp.LpVariable('r41',lowBound = 0, cat='Integer')\n",
    "\n",
    "r12 = pulp.LpVariable('r12',lowBound = 0, cat='Integer')\n",
    "r22 = pulp.LpVariable('r22',lowBound = 0, cat='Integer')\n",
    "r32 = pulp.LpVariable('r32',lowBound = 0, cat='Integer')\n",
    "r42 = pulp.LpVariable('r42',lowBound = 0, cat='Integer')\n",
    "\n",
    "s11 = pulp.LpVariable('s11',lowBound = 0, cat='Integer')\n",
    "s21 = pulp.LpVariable('s21',lowBound = 0, cat='Integer')\n",
    "s31 = pulp.LpVariable('s31',lowBound = 0, cat='Integer')\n",
    "s41 = pulp.LpVariable('s41',lowBound = 0, cat='Integer')\n",
    "\n",
    "s12 = pulp.LpVariable('s12',lowBound = 0, cat='Integer')\n",
    "s22 = pulp.LpVariable('s22',lowBound = 0, cat='Integer')\n",
    "s32 = pulp.LpVariable('s32',lowBound = 0, cat='Integer')\n",
    "s42 = pulp.LpVariable('s42',lowBound = 0, cat='Integer')\n",
    "\n",
    "\n",
    "### objective function \n",
    "model += 6*(q12 +p12) + 5*(r11 +s11) + 3*(r21 +s21) + 1*(r22 +s22) + 8*(r32 +s32) + 4*(r42 + s42)\n",
    "\n",
    "### constraints\n",
    "model += y1 -q12 +p12 == y2\n",
    "\n",
    "model += y1 -r11 +s11 == 2\n",
    "model += y2 -r12 +s12 == 2\n",
    "model += y1 -r21 +s21 == 0\n",
    "model += y2 -r22 +s22 == 0\n",
    "\n",
    "model += y1 -r31 +s31 == 8\n",
    "model += y2 -r32 +s32 == 8\n",
    "model += y1 -r41 +s41 == 4\n",
    "model += y2 -r42 +s42 == 4\n",
    "\n",
    "model.solve()\n",
    "\n",
    "#查看目前解的狀態\n",
    "print(\"Status:\", LpStatus[model.status])\n",
    "\n",
    "#印出解及目標值\n",
    "for v in model.variables():\n",
    "    print(v.name, \"=\", v.varValue)\n",
    "print('obj=',value(model.objective))\n"
   ]
  },
  {
   "cell_type": "code",
   "execution_count": null,
   "metadata": {},
   "outputs": [],
   "source": []
  }
 ],
 "metadata": {
  "kernelspec": {
   "display_name": "Python 3",
   "language": "python",
   "name": "python3"
  },
  "language_info": {
   "codemirror_mode": {
    "name": "ipython",
    "version": 3
   },
   "file_extension": ".py",
   "mimetype": "text/x-python",
   "name": "python",
   "nbconvert_exporter": "python",
   "pygments_lexer": "ipython3",
   "version": "3.7.4"
  }
 },
 "nbformat": 4,
 "nbformat_minor": 2
}
