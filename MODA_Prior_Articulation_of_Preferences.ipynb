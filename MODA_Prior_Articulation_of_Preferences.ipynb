{
 "cells": [
  {
   "cell_type": "code",
   "execution_count": 1,
   "metadata": {
    "ExecuteTime": {
     "end_time": "2020-04-09T03:08:31.022949Z",
     "start_time": "2020-04-09T03:08:30.471219Z"
    }
   },
   "outputs": [],
   "source": [
    "import numpy as np\n",
    "import pandas as pd\n",
    "import math\n",
    "from pulp import *\n",
    "from gurobipy import *\n"
   ]
  },
  {
   "cell_type": "markdown",
   "metadata": {},
   "source": [
    " #### Max\n",
    " \n",
    " $ f1(x) = 5*x1 - 2*x2 $\n",
    " \n",
    " $ f2(x) = -1*x1 + 4*x2 $\n",
    " \n",
    " \n",
    " ####  s.t.\n",
    " \n",
    "  $ -1*x1 + x2  \\leq 3 $\n",
    "\n",
    "  $ x1 + x2  \\leq 8 $\n",
    "\n",
    "  $ x1  \\leq 6 $\n",
    " \n",
    "  $ x2  \\leq 4 $\n",
    "    \n",
    "  $ x1, x2  \\geq 0 $"
   ]
  },
  {
   "cell_type": "markdown",
   "metadata": {},
   "source": [
    "### Weighting Method\n"
   ]
  },
  {
   "cell_type": "markdown",
   "metadata": {},
   "source": [
    "#### solve f1 max and min"
   ]
  },
  {
   "cell_type": "code",
   "execution_count": 21,
   "metadata": {},
   "outputs": [
    {
     "name": "stdout",
     "output_type": "stream",
     "text": [
      "Status: Optimal\n",
      "x1 = 6.0\n",
      "x2 = 0.0\n",
      "obj= 30.0\n"
     ]
    }
   ],
   "source": [
    "### create model\n",
    "model = LpProblem(\"The x Problem\", LpMaximize)\n",
    "\n",
    "### add decision variable\n",
    "x1 = pulp.LpVariable('x1',lowBound = 0, cat='Integer')\n",
    "x2 = pulp.LpVariable('x2',lowBound = 0, cat='Integer')\n",
    "\n",
    "\n",
    "### constraints\n",
    "model += -x1 + x2 <= 3\n",
    "model += x1 + x2 <= 8\n",
    "model += x1 <= 6\n",
    "model += x2 <= 4\n",
    "\n",
    "### objective function  f1\n",
    "\n",
    "model += 5*x1 - 2*x2\n",
    "\n",
    "model.solve()\n",
    "\n",
    "#查看目前解的狀態\n",
    "print(\"Status:\", LpStatus[model.status])\n",
    "\n",
    "#印出解及目標值\n",
    "for v in model.variables():\n",
    "    print(v.name, \"=\", v.varValue)\n",
    "print('obj=',value(model.objective))\n",
    "\n",
    "f1max = value(model.objective)\n"
   ]
  },
  {
   "cell_type": "code",
   "execution_count": 22,
   "metadata": {},
   "outputs": [
    {
     "name": "stdout",
     "output_type": "stream",
     "text": [
      "Status: Optimal\n",
      "x1 = 0.0\n",
      "x2 = 3.0\n",
      "obj= -6.0\n"
     ]
    }
   ],
   "source": [
    "### create model\n",
    "model = LpProblem(\"The x Problem\", LpMinimize)\n",
    "\n",
    "### add decision variable\n",
    "x1 = pulp.LpVariable('x1',lowBound = 0, cat='Integer')\n",
    "x2 = pulp.LpVariable('x2',lowBound = 0, cat='Integer')\n",
    "\n",
    "\n",
    "### constraints\n",
    "model += -x1 + x2 <= 3\n",
    "model += x1 + x2 <= 8\n",
    "model += x1 <= 6\n",
    "model += x2 <= 4\n",
    "\n",
    "### objective function  f1\n",
    "\n",
    "model += 5*x1 - 2*x2\n",
    "\n",
    "model.solve()\n",
    "\n",
    "#查看目前解的狀態\n",
    "print(\"Status:\", LpStatus[model.status])\n",
    "\n",
    "#印出解及目標值\n",
    "for v in model.variables():\n",
    "    print(v.name, \"=\", v.varValue)\n",
    "print('obj=',value(model.objective))\n",
    "\n",
    "f1min = value(model.objective)\n"
   ]
  },
  {
   "cell_type": "markdown",
   "metadata": {},
   "source": [
    "#### solve f2 max and min"
   ]
  },
  {
   "cell_type": "code",
   "execution_count": 23,
   "metadata": {},
   "outputs": [
    {
     "name": "stdout",
     "output_type": "stream",
     "text": [
      "Status: Optimal\n",
      "x1 = 1.0\n",
      "x2 = 4.0\n",
      "obj= 15.0\n"
     ]
    }
   ],
   "source": [
    "### create model\n",
    "model = LpProblem(\"The x Problem\", LpMaximize)\n",
    "\n",
    "### add decision variable\n",
    "x1 = pulp.LpVariable('x1',lowBound = 0, cat='Integer')\n",
    "x2 = pulp.LpVariable('x2',lowBound = 0, cat='Integer')\n",
    "\n",
    "### constraints\n",
    "model += -x1 + x2 <= 3\n",
    "model += x1 + x2 <= 8\n",
    "model += x1 <= 6\n",
    "model += x2 <= 4\n",
    "\n",
    "### objective function  f2\n",
    "model += -x1 + 4*x2\n",
    "\n",
    "model.solve()\n",
    "\n",
    "#查看目前解的狀態\n",
    "print(\"Status:\", LpStatus[model.status])\n",
    "\n",
    "#印出解及目標值\n",
    "for v in model.variables():\n",
    "    print(v.name, \"=\", v.varValue)\n",
    "print('obj=',value(model.objective))\n",
    "\n",
    "f2max = value(model.objective)\n"
   ]
  },
  {
   "cell_type": "code",
   "execution_count": 24,
   "metadata": {},
   "outputs": [
    {
     "name": "stdout",
     "output_type": "stream",
     "text": [
      "Status: Optimal\n",
      "x1 = 6.0\n",
      "x2 = 0.0\n",
      "obj= -6.0\n"
     ]
    }
   ],
   "source": [
    "### create model\n",
    "model = LpProblem(\"The x Problem\", LpMinimize)\n",
    "\n",
    "### add decision variable\n",
    "x1 = pulp.LpVariable('x1',lowBound = 0, cat='Integer')\n",
    "x2 = pulp.LpVariable('x2',lowBound = 0, cat='Integer')\n",
    "\n",
    "### constraints\n",
    "model += -x1 + x2 <= 3\n",
    "model += x1 + x2 <= 8\n",
    "model += x1 <= 6\n",
    "model += x2 <= 4\n",
    "\n",
    "### objective function  f2\n",
    "model += -x1 + 4*x2\n",
    "\n",
    "model.solve()\n",
    "\n",
    "#查看目前解的狀態\n",
    "print(\"Status:\", LpStatus[model.status])\n",
    "\n",
    "#印出解及目標值\n",
    "for v in model.variables():\n",
    "    print(v.name, \"=\", v.varValue)\n",
    "print('obj=',value(model.objective))\n",
    "\n",
    "f2min = value(model.objective)\n"
   ]
  },
  {
   "cell_type": "markdown",
   "metadata": {},
   "source": [
    "### trade-off beteeen 2 objectives\n",
    "\n",
    "\n",
    "Max\n",
    " \n",
    " $  w1*\\frac{f1(x) - min(f1)}{max(f1) - min(f1)} + w2*\\frac{f2(x) - min(f2)}{max(f2) - min(f2)} $\n",
    " \n",
    " \n",
    "for\n",
    "\n",
    " $ w1 = 0.5 $\n",
    "\n",
    " $ w2 = 0.5 $\n"
   ]
  },
  {
   "cell_type": "code",
   "execution_count": 25,
   "metadata": {},
   "outputs": [
    {
     "name": "stdout",
     "output_type": "stream",
     "text": [
      "Status: Optimal\n",
      "x1 = 6.0\n",
      "x2 = 2.0\n",
      "obj= 14.226190476190476\n"
     ]
    }
   ],
   "source": [
    "### create model\n",
    "model = LpProblem(\"The x Problem\", LpMaximize)\n",
    "\n",
    "### add decision variable\n",
    "x1 = pulp.LpVariable('x1',lowBound = 0, cat='Integer')\n",
    "x2 = pulp.LpVariable('x2',lowBound = 0, cat='Integer')\n",
    "\n",
    "### constraints\n",
    "model += -x1 + x2 <= 3\n",
    "model += x1 + x2 <= 8\n",
    "model += x1 <= 6\n",
    "model += x2 <= 4\n",
    "\n",
    "w1 = 0.5\n",
    "w2 = 0.5\n",
    "\n",
    "### objective function  f2\n",
    "model += ( (w1*( (5*x1-2*x2) - f1min / (f1max-f1min)) ) + (w2*( (-x1+4*x2) - f2min / (f2max-f2min))) )\n",
    "\n",
    "model.solve()\n",
    "\n",
    "#查看目前解的狀態\n",
    "print(\"Status:\", LpStatus[model.status])\n",
    "\n",
    "#印出解及目標值\n",
    "for v in model.variables():\n",
    "    print(v.name, \"=\", v.varValue)\n",
    "print('obj=',value(model.objective))\n"
   ]
  },
  {
   "cell_type": "code",
   "execution_count": null,
   "metadata": {},
   "outputs": [],
   "source": []
  },
  {
   "cell_type": "markdown",
   "metadata": {},
   "source": [
    "### Compromise Programming\n",
    "\n"
   ]
  },
  {
   "cell_type": "markdown",
   "metadata": {},
   "source": [
    "#### solve f1 max and f2 max"
   ]
  },
  {
   "cell_type": "code",
   "execution_count": 4,
   "metadata": {},
   "outputs": [
    {
     "name": "stdout",
     "output_type": "stream",
     "text": [
      "Status: Optimal\n",
      "x1 = 6.0\n",
      "x2 = 0.0\n",
      "obj= 30.0\n"
     ]
    }
   ],
   "source": [
    "### create model\n",
    "model = LpProblem(\"The x Problem\", LpMaximize)\n",
    "\n",
    "### add decision variable\n",
    "x1 = pulp.LpVariable('x1',lowBound = 0, cat='Integer')\n",
    "x2 = pulp.LpVariable('x2',lowBound = 0, cat='Integer')\n",
    "\n",
    "\n",
    "### constraints\n",
    "model += -x1 + x2 <= 3\n",
    "model += x1 + x2 <= 8\n",
    "model += x1 <= 6\n",
    "model += x2 <= 4\n",
    "\n",
    "### objective function  f1\n",
    "\n",
    "model += 5*x1 - 2*x2\n",
    "\n",
    "model.solve()\n",
    "\n",
    "#查看目前解的狀態\n",
    "print(\"Status:\", LpStatus[model.status])\n",
    "\n",
    "#印出解及目標值\n",
    "for v in model.variables():\n",
    "    print(v.name, \"=\", v.varValue)\n",
    "print('obj=',value(model.objective))\n",
    "\n",
    "f1max = value(model.objective)\n"
   ]
  },
  {
   "cell_type": "code",
   "execution_count": 5,
   "metadata": {},
   "outputs": [
    {
     "name": "stdout",
     "output_type": "stream",
     "text": [
      "Status: Optimal\n",
      "x1 = 1.0\n",
      "x2 = 4.0\n",
      "obj= 15.0\n"
     ]
    }
   ],
   "source": [
    "### create model\n",
    "model = LpProblem(\"The x Problem\", LpMaximize)\n",
    "\n",
    "### add decision variable\n",
    "x1 = pulp.LpVariable('x1',lowBound = 0, cat='Integer')\n",
    "x2 = pulp.LpVariable('x2',lowBound = 0, cat='Integer')\n",
    "\n",
    "### constraints\n",
    "model += -x1 + x2 <= 3\n",
    "model += x1 + x2 <= 8\n",
    "model += x1 <= 6\n",
    "model += x2 <= 4\n",
    "\n",
    "### objective function  f2\n",
    "model += -x1 + 4*x2\n",
    "\n",
    "model.solve()\n",
    "\n",
    "#查看目前解的狀態\n",
    "print(\"Status:\", LpStatus[model.status])\n",
    "\n",
    "#印出解及目標值\n",
    "for v in model.variables():\n",
    "    print(v.name, \"=\", v.varValue)\n",
    "print('obj=',value(model.objective))\n",
    "\n",
    "f2max = value(model.objective)\n"
   ]
  },
  {
   "cell_type": "markdown",
   "metadata": {},
   "source": [
    "### min distance\n",
    "\n",
    "- now, here we will minimize the distance between f1 and f2 with weights w1, w2 and the p-norm distance\n",
    "    \n",
    "  $ w1 = 0.5 $\n",
    "  \n",
    "  $ w2 = 0.5 $\n",
    "\n",
    "  $ p = 1 $\n",
    "\n",
    "\n",
    "- there we got\n",
    "\n",
    "  $ d_{p} = [(w1 *(f1max- f1(x) /f1max) )^p + (w2 *(f2max- f2(x) /f2max) )^p ]^{1/p} $\n",
    "  \n",
    "  $ d_{1} = [(0.5 *(30 - f1(x) /30) )^1 + (0.5 *(15 - f2(x) /15) )^1 ]^1 $\n",
    "  \n"
   ]
  },
  {
   "cell_type": "code",
   "execution_count": 20,
   "metadata": {},
   "outputs": [
    {
     "name": "stdout",
     "output_type": "stream",
     "text": [
      "Status: Optimal\n",
      "x1 = 4.0\n",
      "x2 = 4.0\n",
      "obj= 0.4\n"
     ]
    }
   ],
   "source": [
    "### create model min\n",
    "model = LpProblem(\"The x Problem\", LpMinimize)\n",
    "\n",
    "### add decision variable\n",
    "x1 = pulp.LpVariable('x1',lowBound = 1, cat='Integer')\n",
    "x2 = pulp.LpVariable('x2',lowBound = 0, cat='Integer')\n",
    "\n",
    "w1 = 0.5\n",
    "w2 = 0.5\n",
    "\n",
    "### constraints\n",
    "model += -x1 + x2 <= 3\n",
    "model += x1 + x2 <= 8\n",
    "model += x1 <= 6\n",
    "model += x2 <= 4\n",
    "\n",
    "\n",
    "### objective function  distance\n",
    "model +=  w1*( (f1max - (5*x1 - 2*x2)) /f1max) + w2*( (f2max - (-x1 + 4*x2)) /f2max)\n",
    "\n",
    "\n",
    "model.solve()\n",
    "\n",
    "#查看目前解的狀態\n",
    "print(\"Status:\", LpStatus[model.status])\n",
    "\n",
    "#印出解及目標值\n",
    "for v in model.variables():\n",
    "    print(v.name, \"=\", v.varValue)\n",
    "print('obj=',value(model.objective))\n"
   ]
  },
  {
   "cell_type": "code",
   "execution_count": null,
   "metadata": {},
   "outputs": [],
   "source": []
  }
 ],
 "metadata": {
  "kernelspec": {
   "display_name": "Python 3",
   "language": "python",
   "name": "python3"
  },
  "language_info": {
   "codemirror_mode": {
    "name": "ipython",
    "version": 3
   },
   "file_extension": ".py",
   "mimetype": "text/x-python",
   "name": "python",
   "nbconvert_exporter": "python",
   "pygments_lexer": "ipython3",
   "version": "3.7.4"
  }
 },
 "nbformat": 4,
 "nbformat_minor": 2
}
